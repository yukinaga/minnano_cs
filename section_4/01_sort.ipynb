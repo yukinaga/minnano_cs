{
  "nbformat": 4,
  "nbformat_minor": 0,
  "metadata": {
    "colab": {
      "name": "01_sort.ipynb",
      "provenance": [],
      "collapsed_sections": [],
      "authorship_tag": "ABX9TyMlKDQTzjkbmbxz9fy7N3EX",
      "include_colab_link": true
    },
    "kernelspec": {
      "name": "python3",
      "display_name": "Python 3"
    }
  },
  "cells": [
    {
      "cell_type": "markdown",
      "metadata": {
        "id": "view-in-github",
        "colab_type": "text"
      },
      "source": [
        "<a href=\"https://colab.research.google.com/github/yukinaga/minnano_cs/blob/main/section_4/01_sort.ipynb\" target=\"_parent\"><img src=\"https://colab.research.google.com/assets/colab-badge.svg\" alt=\"Open In Colab\"/></a>"
      ]
    },
    {
      "cell_type": "markdown",
      "metadata": {
        "id": "hxyDBv5X05ZR"
      },
      "source": [
        "# ソート\n",
        "**ソート**（sort）は、データを昇順、もしくは降順に並び替えるアルゴリズムです。  \n",
        "ソートのアルゴリズムは多く存在しますが、それぞれ計算量が異なります。  \n",
        "今回は、以下の4つの有名なソートのアルゴリズムを解説します。  \n",
        "* 選択ソート\n",
        "* バブルソート\n",
        "* マージソート\n",
        "* クイックソート"
      ]
    },
    {
      "cell_type": "markdown",
      "metadata": {
        "id": "QRPiQ8BYuknU"
      },
      "source": [
        "## ◎選択ソート\n",
        "**選択ソート**（selection sort）は、並んだ複数の要素から最小値（最大値）を探し最初（最後）の要素と入れ替えを行うソートのアルゴリズムです。  \n",
        "直感的でシンプルなのですが、時間計算量（平均、最悪ともに）が$\\mathcal{O}(n^2)$となり、データのサイズが大きい場合は計算に時間がかかるのが欠点です。  \n",
        "空間計算量は、$\\mathcal{O}(1)$となります。  \n",
        "以下は、Pythonによる選択ソートの実装です。"
      ]
    },
    {
      "cell_type": "code",
      "metadata": {
        "id": "CaEQk3goz8jC"
      },
      "source": [
        "data = [3, 5, 2, 1, 4]  # ソート対象のデータ\n",
        "\n",
        "# ----- 選択ソート -----\n",
        "for i in range(0, len(data)):\n",
        "    min_idx = i\n",
        "    for j in range(i+1, len(data)):\n",
        "        if data[j] < data[min_idx]:\n",
        "            min_idx = j\n",
        "    # 値の交換\n",
        "    min = data[min_idx]\n",
        "    data[min_idx] = data[i]\n",
        "    data[i] = min\n",
        "\n",
        "print(data)"
      ],
      "execution_count": null,
      "outputs": []
    },
    {
      "cell_type": "markdown",
      "metadata": {
        "id": "u30HTih52a9d"
      },
      "source": [
        "## ◎バブルソート\n",
        "**バブルソート**（bubble sort）は、隣接した要素の大小を比較しながら整列させるソートのアルゴリズムです。  \n",
        "アルゴリズムがシンプルで並列処理に向いているのですが、選択ソートと同様に時間計算量（最悪）が$\\mathcal{O}(n^2)$となり、データのサイズが大きい場合は計算に時間がかかるのが欠点です。  \n",
        "空間計算量は、$\\mathcal{O}(1)$となります。  \n",
        "以下は、Pythonによるバブルソートの実装です。"
      ]
    },
    {
      "cell_type": "code",
      "metadata": {
        "id": "SgCGKIrZ5wcs"
      },
      "source": [
        "data = [3, 5, 2, 1, 4]  # ソート対象のデータ\n",
        "\n",
        "# ----- バブルソート -----\n",
        "for i in range(0, len(data)):\n",
        "    min_idx = i\n",
        "    for j in range(0, len(data)-i-1):\n",
        "        if data[j] > data[j+1]:\n",
        "            larger = data[j]\n",
        "            data[j] = data[j+1]\n",
        "            data[j+1] = larger\n",
        "\n",
        "print(data)"
      ],
      "execution_count": null,
      "outputs": []
    },
    {
      "cell_type": "markdown",
      "metadata": {
        "id": "HmZjY0XS8ZiE"
      },
      "source": [
        "## ◎クイックソート\n",
        "**クイックソート**（quick sort）は、ピボットと呼ぶ要素を用いてデータの分割を繰り返すことによりソートを行うアルゴリズムです。  \n",
        "比較と交換の回数が少なく、しばしば実用上最も高速であるとされるソートのアルゴリズムです。   \n",
        "  \n",
        "クイックソートは以下の手順で表すことができます。    \n",
        "1. 要素数が1以下であれば、データをそのまま返す\n",
        "2. 要素を1つ選択し、ピボットとする\n",
        "3. ピボットの値以下のグループと、ピボットの値より大きいグループにデータを分割する\n",
        "4. 分割された各グループに1-３を再帰的に適用し、最後に全てのグループを結合する\n",
        "  \n",
        "平均時間計算量は$\\mathcal{O}(n\\log n)$ですが、データのサイズや並びによっては計算に時間がかかることもあり、最悪時間計算量は$\\mathcal{O}(n^2)$となります。  \n",
        "空間計算量は、$\\mathcal{O}(n)$となります。  \n",
        "以下は、Pythonによるクイックソートの実装例です。"
      ]
    },
    {
      "cell_type": "code",
      "metadata": {
        "id": "yTAJz-jF_rBd"
      },
      "source": [
        "def quick_sort(data):\n",
        "    if len(data) <= 1:\n",
        "        return data\n",
        "\n",
        "    pivot = data[0]  # ピボット\n",
        "    less = []  # ピボット以下の要素\n",
        "    more = []  # ピボットより大きい要素\n",
        "\n",
        "    for i in range(1, len(data)):\n",
        "        if data[i] <= pivot:\n",
        "            less.append(data[i])\n",
        "        else:\n",
        "            more.append(data[i])\n",
        "\n",
        "    return quick_sort(less) + [pivot] + quick_sort(more)\n",
        "\n",
        "data = [3, 5, 6, 7, 2, 1, 4, 5, 1]  # ソート対象のデータ\n",
        "print(quick_sort(data))"
      ],
      "execution_count": null,
      "outputs": []
    },
    {
      "cell_type": "markdown",
      "metadata": {
        "id": "KfKfwd3nz-3H"
      },
      "source": [
        "なお、クイックソートのような分割を繰り返すことでソートする手法は、**分割統治法**（divide-and-conquer method）と呼ばれます。"
      ]
    },
    {
      "cell_type": "markdown",
      "metadata": {
        "id": "RVyvBbh5iume"
      },
      "source": [
        "## @ 演習"
      ]
    },
    {
      "cell_type": "markdown",
      "metadata": {
        "id": "-VkOMyVppxwA"
      },
      "source": [
        "分割統治法の一種、**マージソート**（merge sort）を実装しましょう。  \n",
        "マージソートはデータを2つに分割して、それぞれをソートして結合（マージ）し、1つのソート済みデータとします。  \n",
        "クイックソートと比べると最悪計算量は少ないですが、ランダムに並んだでデータでは一般的にクイックソートの方が高速です。\n",
        "  \n",
        "マージソートは以下の手順で表すことができます。    \n",
        "1. データをA、B2つに分割する\n",
        "2. A、Bをそれぞれマージソートする\n",
        "3. A、Bを結合する\n",
        "\n",
        "上記2.では再帰的な処理時が行われます。  \n",
        "3.のデータの結合は以下の手順で行われます。  \n",
        "\n",
        "1. A、Bの先頭要素を比較して、小さい方の要素を抜き出してデータCの末尾に加える\n",
        "2. A、Bどちらかの要素が無くなるまで1.を繰り返す\n",
        "3. 余った要素をC末尾に加え、Cを結合済みのデータとする\n",
        "  \n",
        "平均時間計算量は$\\mathcal{O}(n\\log n)$で、最悪時間計算量は$\\mathcal{O}(n\\log n)$となります。  \n",
        "空間計算量は、$\\mathcal{O}(n)$です。    \n",
        "以下のセルにPythonのコードを追記し、マージソートを実装してください。"
      ]
    },
    {
      "cell_type": "code",
      "metadata": {
        "id": "BkcBMAo7rJMy"
      },
      "source": [
        "def merge_sort(data):  \n",
        "    if len(data) <= 1:\n",
        "        return data\n",
        "\n",
        "    center = len(data) // 2  # 中央のインデックス\n",
        "    data_a = data[:center]  # A\n",
        "    data_b = data[center:]  # B\n",
        "\n",
        "    return   # ←コードを追記\n",
        "\n",
        "def merge(data_a, data_b):  # 結合\n",
        "    merged = []\n",
        "    a_idx = 0\n",
        "    b_idx = 0\n",
        "\n",
        "    while a_idx < len(data_a) and b_idx < len(data_b):  # どちらかの要素が無くなるまで繰り返す\n",
        "        if data_a[a_idx] < data_b[b_idx]:  # 先頭要素を比較\n",
        "              # ←コードを追記\n",
        "            a_idx += 1\n",
        "        else:\n",
        "              # ←コードを追記\n",
        "            b_idx += 1\n",
        "\n",
        "    return merged + data_a[a_idx:] + data_b[b_idx:]  # 余った要素を末尾に加える\n",
        "\n",
        "data = [3, 5, 6, 7, 2, 1, 4, 5, 1]  # ソート対象のデータ\n",
        "print(merge_sort(data))"
      ],
      "execution_count": null,
      "outputs": []
    },
    {
      "cell_type": "markdown",
      "metadata": {
        "collapsed": true,
        "id": "oWYzjdm0dBqE"
      },
      "source": [
        "## @解答例"
      ]
    },
    {
      "cell_type": "code",
      "metadata": {
        "id": "cEJYH6PTs3bA"
      },
      "source": [
        "def merge_sort(data):  \n",
        "    if len(data) <= 1:\n",
        "        return data\n",
        "\n",
        "    center = len(data) // 2  # 中央のインデックス\n",
        "    data_a = data[:center]  # A\n",
        "    data_b = data[center:]  # B\n",
        "\n",
        "    return merge(merge_sort(data_a), merge_sort(data_b))  # ←コードを追記\n",
        "\n",
        "def merge(data_a, data_b):  # 結合\n",
        "    merged = []\n",
        "    a_idx = 0\n",
        "    b_idx = 0\n",
        "\n",
        "    while a_idx < len(data_a) and b_idx < len(data_b):  # どちらかの要素が無くなるまで繰り返す\n",
        "        if data_a[a_idx] < data_b[b_idx]:  # 先頭要素を比較\n",
        "            merged.append(data_a[a_idx])  # ←コードを追記\n",
        "            a_idx += 1\n",
        "        else:\n",
        "            merged.append(data_b[b_idx])  # ←コードを追記\n",
        "            b_idx += 1\n",
        "\n",
        "    return merged + data_a[a_idx:] + data_b[b_idx:]  # 余った要素を末尾に加える\n",
        "\n",
        "data = [3, 5, 6, 7, 2, 1, 4, 5, 1]  # ソート対象のデータ\n",
        "print(merge_sort(data))"
      ],
      "execution_count": null,
      "outputs": []
    }
  ]
}
